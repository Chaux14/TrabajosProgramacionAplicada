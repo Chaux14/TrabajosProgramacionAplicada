{
  "nbformat": 4,
  "nbformat_minor": 0,
  "metadata": {
    "colab": {
      "name": "Retos En Python.ipynb",
      "provenance": [],
      "authorship_tag": "ABX9TyMje29HLBSmw+uAcgLnhgzx",
      "include_colab_link": true
    },
    "kernelspec": {
      "name": "python3",
      "display_name": "Python 3"
    },
    "language_info": {
      "name": "python"
    }
  },
  "cells": [
    {
      "cell_type": "markdown",
      "metadata": {
        "id": "view-in-github",
        "colab_type": "text"
      },
      "source": [
        "<a href=\"https://colab.research.google.com/github/Chaux14/TrabajosProgramacionAplicada/blob/Retos/Retos_En_Python.ipynb\" target=\"_parent\"><img src=\"https://colab.research.google.com/assets/colab-badge.svg\" alt=\"Open In Colab\"/></a>"
      ]
    },
    {
      "cell_type": "code",
      "source": [
        "#Reto 8 Pares\n",
        "for Numero in range(10,21,2):\n",
        "    print(Numero)"
      ],
      "metadata": {
        "colab": {
          "base_uri": "https://localhost:8080/"
        },
        "id": "W5E7nbK_NuQu",
        "outputId": "88af5914-334c-4291-acb3-97affaf448b0"
      },
      "execution_count": null,
      "outputs": [
        {
          "output_type": "stream",
          "name": "stdout",
          "text": [
            "10\n",
            "12\n",
            "14\n",
            "16\n",
            "18\n",
            "20\n"
          ]
        }
      ]
    },
    {
      "cell_type": "code",
      "execution_count": null,
      "metadata": {
        "colab": {
          "base_uri": "https://localhost:8080/"
        },
        "id": "w2u4aI5jDIN7",
        "outputId": "e23bc98f-f4ba-4a9e-d022-429cda087445"
      },
      "outputs": [
        {
          "output_type": "stream",
          "name": "stdout",
          "text": [
            "Ingrese los valores de dos numero para calcular su media\n",
            "Primer Numero: 50\n",
            "Segundo Numero: 50\n",
            "El Valor De La Media Es\n",
            "50.0\n"
          ]
        }
      ],
      "source": [
        "#Reto 13 Media de dos Numeros \n",
        "print(\"Ingrese los valores de dos numero para calcular su media\")\n",
        "A=int(input(\"Primer Numero: \"))\n",
        "B=int(input(\"Segundo Numero: \"))\n",
        "Media = (A + B) / 2 \n",
        "print(\"El Valor De La Media Es\")\n",
        "print(Media)"
      ]
    }
  ]
}