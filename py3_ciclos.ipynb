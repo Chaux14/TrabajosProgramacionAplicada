{
  "nbformat": 4,
  "nbformat_minor": 0,
  "metadata": {
    "colab": {
      "name": "py3-ciclos.ipynb",
      "provenance": [],
      "authorship_tag": "ABX9TyMhhiSe1+AFSsHHXY8AvX3/",
      "include_colab_link": true
    },
    "kernelspec": {
      "name": "python3",
      "display_name": "Python 3"
    },
    "language_info": {
      "name": "python"
    }
  },
  "cells": [
    {
      "cell_type": "markdown",
      "metadata": {
        "id": "view-in-github",
        "colab_type": "text"
      },
      "source": [
        "<a href=\"https://colab.research.google.com/github/Chaux14/TrabajosProgramacionAplicada/blob/py3-ciclos.ipynb/py3_ciclos.ipynb\" target=\"_parent\"><img src=\"https://colab.research.google.com/assets/colab-badge.svg\" alt=\"Open In Colab\"/></a>"
      ]
    },
    {
      "cell_type": "code",
      "metadata": {
        "id": "xwuc-99Smeg6"
      },
      "source": [
        "##Ejercicio #3 :D\n",
        "##Asumiendo que 𝐴, 𝐵, 𝐶 son listas con 𝑛 datos, realice y pruebe una función que calcule la siguiente sumatoria (vale por una tarea del curso).\n",
        "\n",
        "def sumatoria_3(A,B,C):\n",
        "    \n",
        "    n = len(A)\n",
        "    acumulador=0\n",
        "    for i in range(n):\n",
        "        e = A[i]*B[i]\n",
        "        f = C[i]+e\n",
        "        acumulador = acumulador + f\n",
        "    resultado = acumulador + n*n\n",
        "    \n",
        "    return resultado"
      ],
      "execution_count": 4,
      "outputs": []
    },
    {
      "cell_type": "code",
      "metadata": {
        "colab": {
          "base_uri": "https://localhost:8080/"
        },
        "id": "_qplkOv3zAxI",
        "outputId": "bf3f5412-aba1-41ab-e8ea-8745d32c3e66"
      },
      "source": [
        "A=[4,3,1]\n",
        "B=[2,1,4]\n",
        "C=[0,1,0]\n",
        "\n",
        "print(sumatoria_3(A, B, C))"
      ],
      "execution_count": 3,
      "outputs": [
        {
          "output_type": "stream",
          "name": "stdout",
          "text": [
            "25\n"
          ]
        }
      ]
    },
    {
      "cell_type": "code",
      "metadata": {
        "colab": {
          "base_uri": "https://localhost:8080/"
        },
        "id": "pRGGXxI80NzP",
        "outputId": "18837773-1402-4a65-9071-6aea98656fc0"
      },
      "source": [
        "((4*2+0)+(3*1+1)+(1*4+0))+9"
      ],
      "execution_count": 11,
      "outputs": [
        {
          "output_type": "execute_result",
          "data": {
            "text/plain": [
              "25"
            ]
          },
          "metadata": {},
          "execution_count": 11
        }
      ]
    },
    {
      "cell_type": "code",
      "metadata": {
        "id": "PWMjzL1310Kw"
      },
      "source": [
        "##Ejerecio #4 :D\n",
        "\n",
        "def sumatoria_4(A,B):\n",
        "    \n",
        "    n = len(A)//2\n",
        "    C=[]\n",
        "    for i in range(n):\n",
        "        e = A[i+1]**2*B[2*i]\n",
        "        f = e+B[n+i]\n",
        "        C.append(f)\n",
        "    return C"
      ],
      "execution_count": 16,
      "outputs": []
    },
    {
      "cell_type": "code",
      "metadata": {
        "colab": {
          "base_uri": "https://localhost:8080/"
        },
        "id": "9lIte4Y_7oJM",
        "outputId": "4c81f3b3-060f-4052-e962-35b4e1705ddd"
      },
      "source": [
        "A=[5,3]\n",
        "B=[1,4]\n",
        "\n",
        "(sumatoria_4(A, B))"
      ],
      "execution_count": 18,
      "outputs": [
        {
          "output_type": "execute_result",
          "data": {
            "text/plain": [
              "[13]"
            ]
          },
          "metadata": {},
          "execution_count": 18
        }
      ]
    },
    {
      "cell_type": "code",
      "metadata": {
        "colab": {
          "base_uri": "https://localhost:8080/"
        },
        "id": "40HooIJE8yoN",
        "outputId": "54c8f294-e52f-46c9-c1ad-0acd4d3c3109"
      },
      "source": [
        "(9*1)+4"
      ],
      "execution_count": 19,
      "outputs": [
        {
          "output_type": "execute_result",
          "data": {
            "text/plain": [
              "13"
            ]
          },
          "metadata": {},
          "execution_count": 19
        }
      ]
    }
  ]
}